{
 "cells": [
  {
   "cell_type": "code",
   "execution_count": null,
   "metadata": {},
   "outputs": [],
   "source": [
    "import pandas as pd\n",
    "from matplotlib import pyplot as plt\n",
    "import seaborn as sns\n",
    "from scipy import stats\n",
    "\n",
    "df = pd.read_csv('crime-housing-austin-2015.csv')\n",
    "\n",
    "# Change percentages to floats so that they can be graphed\n",
    "df['Ownerunitsaffordabletoaverageteacher'] = df['Ownerunitsaffordabletoaverageteacher'].str.replace('%', '').astype('float')\n",
    "df['Ownerunitsaffordabletoaveragetechworker'] = df['Ownerunitsaffordabletoaveragetechworker'].str.replace('%', '').astype('float')\n",
    "\n",
    "# Drop N/A values in dataset for the demographics we're interested in\n",
    "df.dropna(subset=['Ownerunitsaffordabletoaveragetechworker', 'Ownerunitsaffordabletoaverageteacher'])\n",
    "\n",
    "# Look at the distribution for housing affordability\n",
    "sns.distplot(df['Ownerunitsaffordabletoaveragetechworker'], label='tech worker', hist=False)\n",
    "sns.distplot(df['Ownerunitsaffordabletoaverageteacher'], label='teacher', hist=False)\n",
    "plt.xlabel('Percent of Affordable Owner Units in the Area of the Crime')\n",
    "plt.ylabel('Density')\n",
    "plt.title('Housing Affordability')\n",
    "plt.legend()\n",
    "plt.show()"
   ]
  },
  {
   "cell_type": "markdown",
   "metadata": {},
   "source": [
    "### Interesting Observations:\n",
    "\n",
    "Most crimes are reported in places where the average tech worker can afford to own a house/unit. That's not terribly surprising, because the average tech worker can probably afford to own a house/unit in most places.\n",
    "\n",
    "It's strange that there is a spike in places where less than 40% of average tech workers can afford to buy a house.\n",
    "\n",
    "There are a fair amount of crimes reported in places where less than 40% of teachers can afford to buy a house. \n",
    "\n",
    "There are relatively few crimes recorded for places where only about half of tech workers and only about half of teachers can afford to buy a house.\n",
    "\n",
    "There is a spike in crimes recorded for places where about 70% of teachers can afford to buy a house.\n",
    "\n",
    "In general, it looks like there are more crimes in more affordable (cheaper) housing areas."
   ]
  },
  {
   "cell_type": "code",
   "execution_count": null,
   "metadata": {},
   "outputs": [],
   "source": [
    "# Create a column for how much time passes between a crime being reported and a crime being cleared\n",
    "df['Clearance_Time'] = pd.to_datetime(df['Clearance_Date'], format='%d-%b-%y') - pd.to_datetime(df['Report_Date'], format='%d-%b-%y')\n",
    "df['Clearance_Time'] = df['Clearance_Time'].dt.days\n",
    "df = df.dropna(subset=['Clearance_Time', 'Clearance_Status'])\n",
    "\n",
    "# Make a table for each demographic\n",
    "# Areas where less than half of tech workers can afford to rent a place\n",
    "lowAffordability = df[df['Ownerunitsaffordabletoaveragetechworker'] < 50]\n",
    "# Areas where more than half of teachers can afford to rent a place\n",
    "highAffordability = df[df['Ownerunitsaffordabletoaverageteacher'] > 50]\n",
    "\n",
    "totalCrimes = len(lowAffordability) + len(highAffordability)\n",
    "lowAffordabilityCrimesPercent = len(lowAffordability) / totalCrimes\n",
    "highAffordabilityCrimesPercent = len(highAffordability) / totalCrimes\n",
    "display(f\"Percent of low affordability crimes: {lowAffordabilityCrimesPercent}\")\n",
    "display(f\"Percent of high affordability crimes: {highAffordabilityCrimesPercent}\")\n",
    "display(f\"There are {highAffordabilityCrimesPercent - lowAffordabilityCrimesPercent} % more crimes recorded in our high-affordability housing areas than in our low-affordability housing areas\")"
   ]
  },
  {
   "cell_type": "markdown",
   "metadata": {},
   "source": [
    "It looks like there isn't a significant difference in the quantity of crimes recorded for very expensive areas vs very cheap areas. That's somewhat surprising.\n",
    "\n",
    "## Is there a difference between low-affordability housing areas and high-affordability housing areas in the time it takes for a crime in those areas to be cleared?"
   ]
  },
  {
   "cell_type": "code",
   "execution_count": null,
   "metadata": {},
   "outputs": [],
   "source": [
    "# Make a table for each clearance status in low affordability areas\n",
    "lowAffordabilityArrest = lowAffordability[lowAffordability['Clearance_Status'] == 'C']\n",
    "lowAffordabilityException = lowAffordability[lowAffordability['Clearance_Status'] == 'O']\n",
    "lowAffordabilityNot = lowAffordability[lowAffordability['Clearance_Status'] == 'N']\n",
    "\n",
    "# Make a table for each clearance status in high affordability areas\n",
    "highAffordabilityArrest = highAffordability[highAffordability['Clearance_Status'] == 'C']\n",
    "highAffordabilityException = highAffordability[highAffordability['Clearance_Status'] == 'O']\n",
    "highAffordabilityNot = highAffordability[highAffordability['Clearance_Status'] == 'N']\n",
    "\n",
    "# Take the mean of each clearance time by type, and housing affordability\n",
    "display(\"Low Affordability areas:\")\n",
    "display(f\"mean clearance time when cleared by arrest: {lowAffordabilityArrest['Clearance_Time'].mean()}\")\n",
    "display(f\"percent of crimes cleared by arrest: {len(lowAffordabilityArrest) / len(lowAffordability)}\")\n",
    "display(f\"mean clearance time when cleared by exception: {lowAffordabilityException['Clearance_Time'].mean()}\")\n",
    "display(f\"percent of crimes cleared by exception: {len(lowAffordabilityException) / len(lowAffordability)}\")\n",
    "display(f\"mean clearance time when not cleared: {lowAffordabilityNot['Clearance_Time'].mean()}\")\n",
    "display(f\"percent of crimes not cleared: {len(lowAffordabilityNot) / len(lowAffordability)}\")\n",
    "\n",
    "display(\"High Affordability areas:\")\n",
    "display(f\"mean clearance time when cleared by arrest: {highAffordabilityArrest['Clearance_Time'].mean()}\")\n",
    "display(f\"percent of crimes cleared by arrest: {len(highAffordabilityArrest) / len(highAffordability)}\")\n",
    "display(f\"mean clearance time when cleared by exception: {highAffordabilityException['Clearance_Time'].mean()}\")\n",
    "display(f\"percent of crimes cleared by exception: {len(highAffordabilityException) / len(highAffordability)}\")\n",
    "display(f\"mean clearance time when not cleared: {highAffordabilityNot['Clearance_Time'].mean()}\")\n",
    "display(f\"percent of crimes not cleared: {len(highAffordabilityNot) / len(highAffordability)}\")\n",
    "\n",
    "# Compare the clearance time of each kind of status between low and high affordability housing areas\n",
    "sns.distplot(x=lowAffordabilityArrest['Clearance_Time'], label='low', hist=False)\n",
    "sns.distplot(x=highAffordabilityArrest['Clearance_Time'], label='high', hist=False)\n",
    "plt.xlabel('Clearance Time (Days)')\n",
    "plt.ylabel('Density')\n",
    "plt.title('Distribution of Clearance Time for Crimes Cleared by Arrest')\n",
    "plt.legend()\n",
    "plt.show()\n",
    "\n",
    "sns.distplot(x=lowAffordabilityException['Clearance_Time'], label='low', hist=False)\n",
    "sns.distplot(x=highAffordabilityException['Clearance_Time'], label='high', hist=False)\n",
    "plt.xlabel('Clearance Time (Days)')\n",
    "plt.ylabel('Density')\n",
    "plt.title('Distribution of Clearance Time for Crimes Cleared by Exception')\n",
    "plt.legend()\n",
    "plt.show()\n",
    "\n",
    "sns.distplot(x=lowAffordabilityNot['Clearance_Time'], label='low', hist=False)\n",
    "sns.distplot(x=highAffordabilityNot['Clearance_Time'], label='high', hist=False)\n",
    "plt.xlabel('Clearance Time (Days)')\n",
    "plt.ylabel('Density')\n",
    "plt.title('Distribution of Clearance Time for Crimes Not Cleared')\n",
    "plt.legend()\n",
    "plt.show()"
   ]
  },
  {
   "cell_type": "markdown",
   "metadata": {},
   "source": [
    "It seems that low-affordability housing areas (expensive housing) has lower clearance time than high-affordability housing areas (cheap housing). This could be because crimes being prosecuted in more expensive areas are given a higher priority, or that police departments in those areas have better funding. Let's run a t-test to see if this is statistically significant or not."
   ]
  },
  {
   "cell_type": "code",
   "execution_count": null,
   "metadata": {},
   "outputs": [],
   "source": [
    "display(stats.ttest_ind(highAffordabilityArrest['Clearance_Time'], lowAffordabilityArrest['Clearance_Time']))\n",
    "display(stats.ttest_ind(highAffordabilityException['Clearance_Time'], lowAffordabilityException['Clearance_Time']))\n",
    "display(stats.ttest_ind(highAffordabilityNot['Clearance_Time'], lowAffordabilityNot['Clearance_Time']))"
   ]
  },
  {
   "cell_type": "markdown",
   "metadata": {},
   "source": [
    "Now compare clearance time overall for each housing group:"
   ]
  },
  {
   "cell_type": "code",
   "execution_count": null,
   "metadata": {},
   "outputs": [],
   "source": [
    "sns.distplot(x=lowAffordability['Clearance_Time'], label='low', hist=False)\n",
    "sns.distplot(x=highAffordability['Clearance_Time'], label='high', hist=False)\n",
    "plt.xlabel('Clearance Time (Days)')\n",
    "plt.ylabel('Density')\n",
    "plt.title('Distribution of Clearance Time Overall')\n",
    "plt.legend()\n",
    "plt.show()\n",
    "\n",
    "display(stats.ttest_ind(highAffordability['Clearance_Time'], lowAffordability['Clearance_Time']))\n"
   ]
  },
  {
   "cell_type": "markdown",
   "metadata": {},
   "source": [
    "## Conclusions:\n",
    "\n",
    "Vast majority of crimes are not cleared.\n",
    "Minority of crimes are cleared by exception.\n",
    "\n",
    "It takes less time for crimes to be cleared in areas with more expensive (low-affordability) housing."
   ]
  }
 ],
 "metadata": {
  "kernelspec": {
   "display_name": "Python 3",
   "language": "python",
   "name": "python3"
  },
  "language_info": {
   "codemirror_mode": {
    "name": "ipython",
    "version": 3
   },
   "file_extension": ".py",
   "mimetype": "text/x-python",
   "name": "python",
   "nbconvert_exporter": "python",
   "pygments_lexer": "ipython3",
   "version": "3.9.7"
  }
 },
 "nbformat": 4,
 "nbformat_minor": 2
}
