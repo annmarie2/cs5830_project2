{
 "cells": [
  {
   "cell_type": "code",
   "execution_count": 37,
   "id": "d7db3c7e",
   "metadata": {},
   "outputs": [],
   "source": [
    "import pandas as pd\n",
    "from matplotlib import pyplot as plt\n",
    "import seaborn as sns\n",
    "from scipy import stats\n",
    "from scipy.stats import ttest_ind\n",
    "from scipy.stats import pearsonr\n",
    "\n",
    "# Load the dataset\n",
    "file_path = 'crime-housing-austin-2015.csv'\n",
    "df = pd.read_csv(file_path)"
   ]
  },
  {
   "cell_type": "markdown",
   "id": "4c2c8923",
   "metadata": {},
   "source": [
    "## What is the relationship between housing affordability and crime rates?"
   ]
  },
  {
   "cell_type": "code",
   "execution_count": null,
   "id": "e603c8e7",
   "metadata": {},
   "outputs": [],
   "source": [
    "# Change percentages to floats so that they can be graphed\n",
    "df['Ownerunitsaffordabletoaverageteacher'] = df['Ownerunitsaffordabletoaverageteacher'].str.replace('%', '').astype('float')\n",
    "df['Ownerunitsaffordabletoaveragetechworker'] = df['Ownerunitsaffordabletoaveragetechworker'].str.replace('%', '').astype('float')\n",
    "\n",
    "# Drop N/A values in dataset for the demographics we're interested in\n",
    "df.dropna(subset=['Ownerunitsaffordabletoaveragetechworker', 'Ownerunitsaffordabletoaverageteacher'])\n",
    "\n",
    "# Look at the distribution for housing affordability\n",
    "sns.distplot(df['Ownerunitsaffordabletoaveragetechworker'], label='tech worker', hist=False)\n",
    "sns.distplot(df['Ownerunitsaffordabletoaverageteacher'], label='teacher', hist=False)\n",
    "plt.xlabel('Percent of Affordable Owner Units in the Area of the Crime')\n",
    "plt.ylabel('Density')\n",
    "plt.title('Housing Affordability')\n",
    "plt.legend()\n",
    "plt.show()"
   ]
  },
  {
   "cell_type": "markdown",
   "id": "4b87038b",
   "metadata": {},
   "source": [
    "## Interesting Observations:\n",
    "\n",
    "Most crimes are reported in places where the average tech worker can afford to own a house/unit. That's not terribly surprising, because the average tech worker can probably afford to own a house/unit in most places.\n",
    "\n",
    "It's strange that there is a spike in places where less than 40% of average tech workers can afford to buy a house.\n",
    "\n",
    "There are a fair amount of crimes reported in places where less than 40% of teachers can afford to buy a house. \n",
    "\n",
    "There are relatively few crimes recorded for places where only about half of tech workers and only about half of teachers can afford to buy a house.\n",
    "\n",
    "There is a spike in crimes recorded for places where about 70% of teachers can afford to buy a house.\n",
    "\n",
    "In general, it looks like there are more crimes in more affordable (cheaper) housing areas."
   ]
  },
  {
   "cell_type": "code",
   "execution_count": null,
   "id": "31dc6960",
   "metadata": {},
   "outputs": [],
   "source": [
    "# Create a column for how much time passes between a crime being reported and a crime being cleared\n",
    "df['Clearance_Time'] = pd.to_datetime(df['Clearance_Date'], format='%d-%b-%y') - pd.to_datetime(df['Report_Date'], format='%d-%b-%y')\n",
    "df['Clearance_Time'] = df['Clearance_Time'].dt.days\n",
    "df = df.dropna(subset=['Clearance_Time', 'Clearance_Status'])\n",
    "\n",
    "# Make a table for each demographic\n",
    "# Areas where less than half of tech workers can afford to rent a place\n",
    "lowAffordability = df[df['Ownerunitsaffordabletoaveragetechworker'] < 50]\n",
    "# Areas where more than half of teachers can afford to rent a place\n",
    "highAffordability = df[df['Ownerunitsaffordabletoaverageteacher'] > 50]\n",
    "\n",
    "totalCrimes = len(lowAffordability) + len(highAffordability)\n",
    "lowAffordabilityCrimesPercent = len(lowAffordability) / totalCrimes\n",
    "highAffordabilityCrimesPercent = len(highAffordability) / totalCrimes\n",
    "display(f\"Percent of low affordability crimes: {lowAffordabilityCrimesPercent}\")\n",
    "display(f\"Percent of high affordability crimes: {highAffordabilityCrimesPercent}\")\n",
    "display(f\"There are {highAffordabilityCrimesPercent - lowAffordabilityCrimesPercent} % more crimes recorded in our high-affordability housing areas than in our low-affordability housing areas\")"
   ]
  },
  {
   "cell_type": "markdown",
   "id": "8ce27668",
   "metadata": {},
   "source": [
    "It looks like there isn't a significant difference in the quantity of crimes recorded for very expensive areas vs very cheap areas. That's somewhat surprising.\n",
    "\n",
    "## Is there a difference between low-affordability housing areas and high-affordability housing areas in the time it takes for a crime in those areas to be cleared?"
   ]
  },
  {
   "cell_type": "code",
   "execution_count": null,
   "id": "3d2ff3a0",
   "metadata": {
    "scrolled": true
   },
   "outputs": [],
   "source": [
    "# Make a table for each clearance status in low affordability areas\n",
    "lowAffordabilityArrest = lowAffordability[lowAffordability['Clearance_Status'] == 'C']\n",
    "lowAffordabilityException = lowAffordability[lowAffordability['Clearance_Status'] == 'O']\n",
    "lowAffordabilityNot = lowAffordability[lowAffordability['Clearance_Status'] == 'N']\n",
    "\n",
    "# Make a table for each clearance status in high affordability areas\n",
    "highAffordabilityArrest = highAffordability[highAffordability['Clearance_Status'] == 'C']\n",
    "highAffordabilityException = highAffordability[highAffordability['Clearance_Status'] == 'O']\n",
    "highAffordabilityNot = highAffordability[highAffordability['Clearance_Status'] == 'N']\n",
    "\n",
    "# Take the mean of each clearance time by type, and housing affordability\n",
    "display(\"Low Affordability areas:\")\n",
    "display(f\"mean clearance time when cleared by arrest: {lowAffordabilityArrest['Clearance_Time'].mean()}\")\n",
    "display(f\"percent of crimes cleared by arrest: {len(lowAffordabilityArrest) / len(lowAffordability)}\")\n",
    "display(f\"mean clearance time when cleared by exception: {lowAffordabilityException['Clearance_Time'].mean()}\")\n",
    "display(f\"percent of crimes cleared by exception: {len(lowAffordabilityException) / len(lowAffordability)}\")\n",
    "display(f\"mean clearance time when not cleared: {lowAffordabilityNot['Clearance_Time'].mean()}\")\n",
    "display(f\"percent of crimes not cleared: {len(lowAffordabilityNot) / len(lowAffordability)}\")\n",
    "\n",
    "display(\"High Affordability areas:\")\n",
    "display(f\"mean clearance time when cleared by arrest: {highAffordabilityArrest['Clearance_Time'].mean()}\")\n",
    "display(f\"percent of crimes cleared by arrest: {len(highAffordabilityArrest) / len(highAffordability)}\")\n",
    "display(f\"mean clearance time when cleared by exception: {highAffordabilityException['Clearance_Time'].mean()}\")\n",
    "display(f\"percent of crimes cleared by exception: {len(highAffordabilityException) / len(highAffordability)}\")\n",
    "display(f\"mean clearance time when not cleared: {highAffordabilityNot['Clearance_Time'].mean()}\")\n",
    "display(f\"percent of crimes not cleared: {len(highAffordabilityNot) / len(highAffordability)}\")\n",
    "\n",
    "# Compare the clearance time of each kind of status between low and high affordability housing areas\n",
    "sns.distplot(x=lowAffordabilityArrest['Clearance_Time'], label='low', hist=False)\n",
    "sns.distplot(x=highAffordabilityArrest['Clearance_Time'], label='high', hist=False)\n",
    "plt.xlabel('Clearance Time (Days)')\n",
    "plt.ylabel('Density')\n",
    "plt.title('Distribution of Clearance Time for Crimes Cleared by Arrest')\n",
    "plt.legend()\n",
    "plt.show()\n",
    "\n",
    "sns.distplot(x=lowAffordabilityException['Clearance_Time'], label='low', hist=False)\n",
    "sns.distplot(x=highAffordabilityException['Clearance_Time'], label='high', hist=False)\n",
    "plt.xlabel('Clearance Time (Days)')\n",
    "plt.ylabel('Density')\n",
    "plt.title('Distribution of Clearance Time for Crimes Cleared by Exception')\n",
    "plt.legend()\n",
    "plt.show()\n",
    "\n",
    "sns.distplot(x=lowAffordabilityNot['Clearance_Time'], label='low', hist=False)\n",
    "sns.distplot(x=highAffordabilityNot['Clearance_Time'], label='high', hist=False)\n",
    "plt.xlabel('Clearance Time (Days)')\n",
    "plt.ylabel('Density')\n",
    "plt.title('Distribution of Clearance Time for Crimes Not Cleared')\n",
    "plt.legend()\n",
    "plt.show()"
   ]
  },
  {
   "cell_type": "markdown",
   "id": "112022ea",
   "metadata": {},
   "source": [
    "It seems that low-affordability housing areas (expensive housing) has lower clearance time than high-affordability housing areas (cheap housing). This could be because crimes being prosecuted in more expensive areas are given a higher priority, or that police departments in those areas have better funding. Let's run a t-test to see if this is statistically significant or not."
   ]
  },
  {
   "cell_type": "code",
   "execution_count": null,
   "id": "6448a36a",
   "metadata": {},
   "outputs": [],
   "source": [
    "display(stats.ttest_ind(highAffordabilityArrest['Clearance_Time'], lowAffordabilityArrest['Clearance_Time']))\n",
    "display(stats.ttest_ind(highAffordabilityException['Clearance_Time'], lowAffordabilityException['Clearance_Time']))\n",
    "display(stats.ttest_ind(highAffordabilityNot['Clearance_Time'], lowAffordabilityNot['Clearance_Time']))"
   ]
  },
  {
   "cell_type": "markdown",
   "id": "8273a582",
   "metadata": {},
   "source": [
    "Now compare clearance time overall for each housing group:"
   ]
  },
  {
   "cell_type": "code",
   "execution_count": null,
   "id": "cfd841b6",
   "metadata": {},
   "outputs": [],
   "source": [
    "sns.distplot(x=lowAffordability['Clearance_Time'], label='low', hist=False)\n",
    "sns.distplot(x=highAffordability['Clearance_Time'], label='high', hist=False)\n",
    "plt.xlabel('Clearance Time (Days)')\n",
    "plt.ylabel('Density')\n",
    "plt.title('Distribution of Clearance Time Overall')\n",
    "plt.legend()\n",
    "plt.show()\n",
    "\n",
    "display(f\"average clearance time for low affordability housing (in days): {lowAffordability['Clearance_Time'].mean()}\")\n",
    "display(f\"average clearance time for high affordability housing (in days): {highAffordability['Clearance_Time'].mean()}\")\n",
    "display(stats.ttest_ind(highAffordability['Clearance_Time'], lowAffordability['Clearance_Time']))"
   ]
  },
  {
   "cell_type": "markdown",
   "id": "4c3fc5a0",
   "metadata": {},
   "source": [
    "Vast majority of crimes are not cleared. Minority of crimes are cleared by exception.\n",
    "\n",
    "It takes less time for crimes to be cleared in areas with more expensive (low-affordability) housing."
   ]
  },
  {
   "cell_type": "markdown",
   "id": "cd1c76ef",
   "metadata": {},
   "source": [
    "# Is there a significant relationship between crime clearance rates and changes in median home values and median rent across districts in Austin?"
   ]
  },
  {
   "cell_type": "code",
   "execution_count": null,
   "id": "8de7bd40",
   "metadata": {},
   "outputs": [],
   "source": [
    "# Crime Clearance Rate vs. Change in Median Home Value (2000-2012)\n",
    "crime_clearance_rate = df.groupby('Council_District')['Clearance_Status'].apply(lambda x: (x == 'C').mean())\n",
    "median_home_value_change = df.groupby('Council_District')['Changeinmedianhomevalue2000-2012'].apply(lambda x: float(x.iloc[0].strip('%')))\n",
    "\n",
    "plt.figure(figsize=(8, 6))\n",
    "plt.scatter(crime_clearance_rate, median_home_value_change, color='green')\n",
    "plt.title('Crime Clearance Rate vs. Change in Median Home Value (2000-2012)')\n",
    "plt.xlabel('Crime Clearance Rate')\n",
    "plt.ylabel('Change in Median Home Value (%)')\n",
    "plt.show()\n",
    "\n",
    "# Crime Clearance Rate vs. Change in Median Rent (2000-2012)\n",
    "median_rent_change = df.groupby('Council_District')['Changeinmedianrent2000-2012'].apply(lambda x: float(x.iloc[0].strip('%')))\n",
    "\n",
    "plt.figure(figsize=(8, 6))\n",
    "plt.scatter(crime_clearance_rate, median_rent_change, color='blue')\n",
    "plt.title('Crime Clearance Rate vs. Change in Median Rent (2000-2012)')\n",
    "plt.xlabel('Crime Clearance Rate')\n",
    "plt.ylabel('Change in Median Rent (%)')\n",
    "plt.show()"
   ]
  },
  {
   "cell_type": "markdown",
   "id": "d9ed6d03",
   "metadata": {},
   "source": [
    "The first scatter plot shows the crime clearance rates on the x-axis and the change in median home values on the y-axis for each district. On the other hand second scatter plot displays crime clearance rates on the x-axis and the change in median rent on the y-axis. Each point represents a district."
   ]
  },
  {
   "cell_type": "code",
   "execution_count": null,
   "id": "504074e8",
   "metadata": {},
   "outputs": [],
   "source": [
    "# Group districts by higher and lower clearance rates\n",
    "median_clearance_rate = crime_clearance_rate.median()\n",
    "high_clearance_districts = crime_clearance_rate[crime_clearance_rate >= median_clearance_rate].index\n",
    "low_clearance_districts = crime_clearance_rate[crime_clearance_rate < median_clearance_rate].index\n",
    "\n",
    "# Extract data for high and low clearance districts\n",
    "high_clearance_home_value_change = median_home_value_change[high_clearance_districts]\n",
    "low_clearance_home_value_change = median_home_value_change[low_clearance_districts]\n",
    "\n",
    "high_clearance_rent_change = median_rent_change[high_clearance_districts]\n",
    "low_clearance_rent_change = median_rent_change[low_clearance_districts]\n",
    "\n",
    "t_stat_home_value, p_value_home_value = ttest_ind(high_clearance_home_value_change, low_clearance_home_value_change)\n",
    "t_stat_rent, p_value_rent = ttest_ind(high_clearance_rent_change, low_clearance_rent_change)\n",
    "\n",
    "print(f\"T-test for Home Value Change: t-statistic = {t_stat_home_value}, p-value = {p_value_home_value}\")\n",
    "print(f\"T-test for Rent Change: t-statistic = {t_stat_rent}, p-value = {p_value_rent}\")\n"
   ]
  },
  {
   "cell_type": "markdown",
   "id": "08312de9",
   "metadata": {},
   "source": [
    "**T-Test for Home Value Change:**\n",
    "* t-statistic: 0.8188\n",
    "* p-value: 0.4366\n",
    "\n",
    "**t-statistic:** A t-statistic of 0.8188 indicates that the difference in the mean change in median home values between districts with high and low crime clearance rates is small. The t-statistic measures how many standard deviations the means of the two groups are apart. A small t-value (close to 0) suggests that the two groups are not very different in terms of their means.\n",
    "\n",
    "**p-value:** A p-value of 0.4366 is much higher than the commonly used threshold of 0.05. This means that the probability of observing this difference (or a more extreme one) purely by chance is around 43.66%. Since this p-value is high, we fail to reject the null hypothesis.\n",
    "\n",
    "**Conclusion:**\n",
    "No significant difference: The difference in home value changes between districts with high and low crime clearance rates is not statistically significant. In simpler terms, there is no strong evidence to suggest that higher crime clearance rates are associated with changes in median home values."
   ]
  },
  {
   "cell_type": "markdown",
   "id": "24668fdd",
   "metadata": {},
   "source": [
    "**T-Test for Rent Change:**\n",
    "* t-statistic: 1.0180\n",
    "* p-value: 0.3385\n",
    "\n",
    "**t-statistic:** A t-statistic of 1.0180 is slightly higher than the t-statistic for home values but still small, indicating that the difference in the mean change in median rent between districts with high and low crime clearance rates is also small.\n",
    "\n",
    "**p-value:** A p-value of 0.3385 is again higher than 0.05. This means the probability of observing this difference in rent change purely by chance is around 33.85%. Like the home value change, this p-value is too high to consider the result statistically significant.\n",
    "\n",
    "**Conclusion:**\n",
    "No significant difference: The difference in rent changes between districts with high and low crime clearance rates is also not statistically significant. This means there isn't sufficient evidence to conclude that higher crime clearance rates are associated with changes in median rents."
   ]
  },
  {
   "cell_type": "markdown",
   "id": "78c959b2",
   "metadata": {},
   "source": [
    "Both tests show that there is no statistically significant difference between the districts with high crime clearance rates and those with low clearance rates in terms of:\n",
    "\n",
    "* The change in median home value.\n",
    "* The change in median rent.\n",
    "\n",
    "This means that, based on the data, we cannot conclude that crime clearance rates have a meaningful impact on changes in property values or rents. The differences that do exist between the two groups could have arisen by chance, as indicated by the high p-values in both tests."
   ]
  },
  {
   "cell_type": "code",
   "execution_count": null,
   "id": "36d09e6a",
   "metadata": {},
   "outputs": [],
   "source": [
    "# Perform Pearson correlation test for crime clearance rate vs. change in median home value\n",
    "pearson_home_value_corr, p_value_home_value_corr = pearsonr(crime_clearance_rate, median_home_value_change)\n",
    "\n",
    "# Perform Pearson correlation test for crime clearance rate vs. change in median rent\n",
    "pearson_rent_corr, p_value_rent_corr = pearsonr(crime_clearance_rate, median_rent_change)\n",
    "\n",
    "# Print the Pearson correlation coefficients and corresponding p-values\n",
    "print(f\"Pearson Correlation for Crime Clearance Rate vs. Change in Median Home Value: {pearson_home_value_corr}, p-value: {p_value_home_value_corr}\")\n",
    "print(f\"Pearson Correlation for Crime Clearance Rate vs. Change in Median Rent: {pearson_rent_corr}, p-value: {p_value_rent_corr}\")\n"
   ]
  },
  {
   "cell_type": "markdown",
   "id": "c201959f",
   "metadata": {},
   "source": [
    "**Crime Clearance Rate vs. Change in Median Home Value:**\n",
    "\n",
    "**Pearson Correlation Coefficient (r):** 0.0267\n",
    "This value is very close to zero, indicating almost no linear relationship between crime clearance rates and changes in median home values across districts.\n",
    "\n",
    "**p-value:** 0.9417\n",
    "\n",
    "This p-value is significantly higher than the commonly used threshold of 0.05, suggesting that the correlation is not statistically significant. In other words, the weak relationship observed could easily be due to random chance.\n",
    "\n",
    "**Conclusion:** There is no significant correlation between crime clearance rates and changes in median home values. The data does not suggest that clearing more crimes has any noticeable effect on home value changes.\n",
    "\n",
    "**Crime Clearance Rate vs. Change in Median Rent:**\n",
    "\n",
    "**Pearson Correlation Coefficient (r):** 0.4093\n",
    "\n",
    "This shows a moderate positive relationship between crime clearance rates and changes in median rent. However, the relationship is not particularly strong.\n",
    "\n",
    "**p-value:** 0.2402\n",
    "\n",
    "This p-value is higher than 0.05, indicating that the correlation is not statistically significant. The observed relationship could be due to chance, and there is no strong evidence to support a significant impact of clearance rates on rent changes.\n",
    "\n",
    "**Conclusion:** While there is a moderate positive correlation between crime clearance rates and rent changes, the relationship is not statistically significant. This means the data does not provide strong evidence that higher crime clearance rates lead to greater increases in rent."
   ]
  },
  {
   "cell_type": "markdown",
   "id": "5d92b3fe",
   "metadata": {},
   "source": [
    "# How do crime clearance rates for violent crimes vary across districts in Austin, and what patterns can we observe regarding the likelihood of crimes being cleared by arrest, exception, or not cleared at all?"
   ]
  },
  {
   "cell_type": "code",
   "execution_count": null,
   "id": "1cae7cae",
   "metadata": {
    "scrolled": false
   },
   "outputs": [],
   "source": [
    "# Clearance Rates for Violent Crimes by District in Austin (2015)\n",
    "violent_crimes_keywords = ['Robbery', 'Assault', 'Homicide', 'Murder']\n",
    "violent_crimes_data = df[df['Highest_NIBRS_UCR_Offense_Description'].str.contains('|'.join(violent_crimes_keywords), case=False, na=False)]\n",
    "clearance_rate_by_district = violent_crimes_data.groupby(['Council_District', 'Highest_NIBRS_UCR_Offense_Description'])['Clearance_Status'].value_counts(normalize=True).unstack().fillna(0)\n",
    "clearance_rate_by_district.columns = ['Cleared by Arrest', 'Not Cleared', 'Cleared by Exception']\n",
    "\n",
    "clearance_rate_by_district.plot(kind='bar', stacked=True, figsize=(14, 8), color=['green', 'red', 'orange'])\n",
    "plt.title('Clearance Rates for Violent Crimes by District in Austin (2015)')\n",
    "plt.xlabel('District and Crime Type')\n",
    "plt.ylabel('Proportion of Cases')\n",
    "plt.legend(title='Clearance Status')\n",
    "plt.tight_layout()\n",
    "plt.show()"
   ]
  },
  {
   "cell_type": "markdown",
   "id": "092916b6",
   "metadata": {},
   "source": [
    "The chart shows variability across districts in terms of how violent crimes are resolved. Some districts see more success in clearing crimes through arrests, while others struggle to clear cases or rely more on exceptional circumstances.\n",
    "\n",
    "There is no district where all violent crimes are cleared by arrest, indicating that across the city, solving violent crimes is complex and challenging."
   ]
  }
 ],
 "metadata": {
  "kernelspec": {
   "display_name": "Python 3 (ipykernel)",
   "language": "python",
   "name": "python3"
  },
  "language_info": {
   "codemirror_mode": {
    "name": "ipython",
    "version": 3
   },
   "file_extension": ".py",
   "mimetype": "text/x-python",
   "name": "python",
   "nbconvert_exporter": "python",
   "pygments_lexer": "ipython3",
   "version": "3.9.7"
  }
 },
 "nbformat": 4,
 "nbformat_minor": 5
}
